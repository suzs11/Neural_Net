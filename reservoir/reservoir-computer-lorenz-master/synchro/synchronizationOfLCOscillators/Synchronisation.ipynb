{
 "cells": [
  {
   "cell_type": "code",
   "execution_count": 1,
   "metadata": {},
   "outputs": [],
   "source": [
    "import numpy as np\n",
    "import matplotlib.pyplot as plt\n",
    "from numpy.random import shuffle\n",
    "from scipy.integrate import ode, odeint\n",
    "from scipy.sparse import csgraph\n",
    "from scipy.signal import find_peaks\n",
    "from scipy.spatial import distance\n",
    "from scipy.stats import norm\n",
    "from scipy.interpolate import interp1d\n",
    "import pickle\n",
    "from matplotlib.pylab import rcParams\n",
    "from matplotlib import animation\n",
    "from IPython.display import HTML"
   ]
  },
  {
   "cell_type": "code",
   "execution_count": 2,
   "metadata": {},
   "outputs": [],
   "source": [
    "%matplotlib inline\n",
    "rcParams['figure.figsize'] = 15, 6\n",
    "rcParams['animation.html'] = 'html5'"
   ]
  },
  {
   "cell_type": "code",
   "execution_count": 3,
   "metadata": {},
   "outputs": [],
   "source": [
    "def make_vanderpl(alpha,omega0_square):\n",
    "    def vanderpol(X, t):\n",
    "        x = X[0]\n",
    "        y = X[1]\n",
    "        dxdt = y\n",
    "        dydt = alpha * (1 - x**2)*y-omega0_square*x\n",
    "        return [dxdt, dydt]\n",
    "    return vanderpol"
   ]
  },
  {
   "cell_type": "code",
   "execution_count": 4,
   "metadata": {},
   "outputs": [],
   "source": [
    "def consecutive(data, stepsize=1):\n",
    "    return np.hsplit(data, np.where(np.diff(data) != stepsize)[0]+1)"
   ]
  },
  {
   "cell_type": "code",
   "execution_count": null,
   "metadata": {},
   "outputs": [],
   "source": [
    "def vanDerPolTrajectory(alpha, omega0_square,X0=[2,0],resolution = 2000, t_end = 150):\n",
    "    t = np.linspace(0,t_end, t_end*resolution+1)\n",
    "    \n",
    "    return odeint(make_vanderpl(alpha,omega0_square), X0, t)\n",
    "    "
   ]
  },
  {
   "cell_type": "code",
   "execution_count": 5,
   "metadata": {},
   "outputs": [],
   "source": [
    "def TandLC(trajectory, alpha, omega0_square):\n",
    "    # Neighborhood Radius\n",
    "    cutoff = np.floor(t_end*resolution*0.2).astype(int)\n",
    "    T = np.empty(4, dtype=object)\n",
    "    \n",
    "    sol_cut = trajectory[-cutoff:]\n",
    "    peaks, _ = find_peaks(sol_cut[:,0],height=0)\n",
    "    try:\n",
    "        ind1= peaks[-2]\n",
    "        ind2= peaks[-1]\n",
    "        TrackLC = sol_cut[ind1:ind2+1]\n",
    "        phaseZ = np.argmax(TrackLC[:,0])\n",
    "        T[0]= alpha \n",
    "        T[1]=omega0_square\n",
    "        T[2]=((ind2-ind1)/resolution)\n",
    "        T[3]= np.roll( TrackLC, -phaseZ, axis = 0 )\n",
    "        return T\n",
    "        \n",
    "    except:\n",
    "        print(alpha)\n",
    "        print(omega0_square)\n",
    "        print(peaks)\n",
    "        T[0]= alpha\n",
    "        T[1]= omega0_square\n",
    "        T[2]= np.nan\n",
    "        T[3]= trajectory#np.nan\n",
    "        return T"
   ]
  },
  {
   "cell_type": "code",
   "execution_count": 7,
   "metadata": {},
   "outputs": [],
   "source": [
    "def phaseResponseCurve(LC,\n",
    "                       alpha=0.005,\n",
    "                       omega0_square=1,\n",
    "                       delta = 10**(-1),\n",
    "                       resolution=2000,\n",
    "                       testNumber =100,\n",
    "                      direction = \"dx\"):\n",
    "    T=LC.shape[0]\n",
    "    t = np.linspace(0,10* T/resolution, 10*T+1)\n",
    "    deltaT= T//testNumber\n",
    "    t_step= np.arange(0,T,deltaT)\n",
    "    phase_response = np.zeros(len(t_step))\n",
    "    for ind, t_start in enumerate(t_step):\n",
    "        X0_origin=[LC[t_start,0], LC[t_start,1]]\n",
    "        if (direction==\"dx\"):\n",
    "            X0_per = [LC[t_start,0]+delta, LC[t_start,1]]\n",
    "        else:\n",
    "            X0_per = [LC[t_start,0], LC[t_start,1]+delta]\n",
    "        sol_origin = odeint(make_vanderpl(alpha,omega0_square), X0_origin, t)\n",
    "\n",
    "        sol_per = odeint(make_vanderpl(alpha,omega0_square), X0_per, t)\n",
    "        \n",
    "        \n",
    "        posDif_per=LC-sol_per[-1,:]\n",
    "        posDif_origin=LC-sol_origin[-1,:]\n",
    "\n",
    "        t_origin=np.argmin(np.sum(posDif_origin**2,axis=1))\n",
    "        t_per=np.argmin(np.sum(posDif_per**2,axis=1))\n",
    "        \n",
    "\n",
    "        t_diff = -np.float64(t_per-t_origin)/T\n",
    "        if t_diff >0.9:\n",
    "            t_diff -= 1\n",
    "        if t_diff <-0.9:\n",
    "            t_diff += 1\n",
    "        phase_response[ind] = t_diff*360\n",
    "    return phase_response"
   ]
  },
  {
   "cell_type": "code",
   "execution_count": null,
   "metadata": {},
   "outputs": [],
   "source": [
    "def phaseInterpol(x):\n",
    "    peaks, _ = find_peaks(x,height=1,distance=40)\n",
    "    Ts =np.diff(peaks)\n",
    "    head =np.linspace(0,2*np.pi,num= Ts[0])[-peaks[0]-1:-1]\n",
    "    phase = np.concatenate([np.linspace(0,2*np.pi,num=Tn+1)[:-1] for Tn in Ts])\n",
    "    if peaks[0] != 0:\n",
    "        phase = np.concatenate((head,phase ))\n",
    "    while len(phase) < len(x):\n",
    "        phase = np.concatenate((phase, np.linspace(0,2*np.pi,num=Ts[-1]) ))[:len(x)]\n",
    "    return phase"
   ]
  },
  {
   "cell_type": "code",
   "execution_count": 19,
   "metadata": {},
   "outputs": [],
   "source": [
    "def tableOfLC(alpha, omega0_sqr):\n",
    "    table = np.empty((len(alpha),len(omega0_sqr),4),dtype=object)\n",
    "    for idx , alp in enumerate(alpha):\n",
    "        for idy, ome in enumerate(omega0_sqr):\n",
    "                    Trajectory = vanDerPolTrajectory(alp,ome,X0,resolution, t_end)\n",
    "                    table[idx][idy]= TandLC(Trajectory,alp,ome)\n",
    "    return table"
   ]
  },
  {
   "cell_type": "code",
   "execution_count": 9,
   "metadata": {},
   "outputs": [],
   "source": [
    "def order_param(theta, N, k=1):\n",
    "    \"\"\"Returns kth order parameter\n",
    "    \"\"\"\n",
    "    Rk = np.sum( np.exp(1j * k * theta.reshape(-1,N)), axis=1 )/N\n",
    "    return np.abs(Rk), np.angle(Rk)"
   ]
  },
  {
   "cell_type": "markdown",
   "metadata": {},
   "source": [
    "## Sampling with Gaussian distribution"
   ]
  },
  {
   "cell_type": "code",
   "execution_count": 8,
   "metadata": {
    "scrolled": true
   },
   "outputs": [
    {
     "name": "stdout",
     "output_type": "stream",
     "text": [
      "Critical Value of Coupling:  0.07978845608028654\n"
     ]
    }
   ],
   "source": [
    "np.random.seed(3) \n",
    "mean_w = 0.75                            #mean of distribution of natural frequencies of oscillators\n",
    "std_w = 0.05                           #standard deviation of disribution of natural freqs\n",
    "N=500\n",
    "K = None #will loop over this          #coupling strength\n",
    "sample = np.random.normal(mean_w, std_w, N)\n",
    "g0= norm.pdf(0,0,std_w)\n",
    "Kc=2/(np.pi*g0)\n",
    "print(\"Critical Value of Coupling: \",Kc)"
   ]
  },
  {
   "cell_type": "markdown",
   "metadata": {},
   "source": [
    "## $\\alpha =1$"
   ]
  },
  {
   "cell_type": "code",
   "execution_count": 14,
   "metadata": {
    "scrolled": true
   },
   "outputs": [
    {
     "name": "stdout",
     "output_type": "stream",
     "text": [
      "1\n",
      "0.0\n",
      "[]\n",
      "1\n",
      "0.1\n",
      "[46159]\n"
     ]
    }
   ],
   "source": [
    "alpha1 = 1\n",
    "X0 = [2, 0]\n",
    "\n",
    "\n",
    "omega0SquareResolution = 10\n",
    "omega0SquareStart = 0\n",
    "omega0SquareEnd = 16\n",
    "Talpha1 = np.empty(((omega0SquareEnd-omega0SquareStart)*omega0SquareResolution+1,4),dtype=object)\n",
    "\n",
    "for idx,omega0Square in enumerate(np.linspace(omega0SquareStart,omega0SquareEnd,(omega0SquareEnd\n",
    "                                                                                 -omega0SquareStart)*omega0SquareResolution+1)) :\n",
    "    Trajectory = vanDerPolTrajectory(alpha1, omega0Square,X0,resolution, t_end)\n",
    "    Talpha1[idx]= TandLC(Trajectory,alpha1,omega0Square)\n",
    "\n"
   ]
  },
  {
   "cell_type": "code",
   "execution_count": 15,
   "metadata": {},
   "outputs": [],
   "source": [
    "NotNanIdx = np.where(~np.isnan(np.asarray(Talpha1[:,2],dtype=np.float64)))"
   ]
  },
  {
   "cell_type": "code",
   "execution_count": 16,
   "metadata": {},
   "outputs": [],
   "source": [
    "interpolatorOmegaSquareOmegaialpha1 =  interp1d(2*np.pi/Talpha1[:,2][NotNanIdx], (Talpha1[:,1][NotNanIdx]))"
   ]
  },
  {
   "cell_type": "code",
   "execution_count": 17,
   "metadata": {},
   "outputs": [],
   "source": [
    "TargetOmega0Square1 = np.asarray(interpolatorOmegaSquareOmegaialpha1(sample),dtype=np.float64)"
   ]
  },
  {
   "cell_type": "code",
   "execution_count": 18,
   "metadata": {
    "scrolled": false
   },
   "outputs": [
    {
     "data": {
      "text/plain": [
       "False"
      ]
     },
     "execution_count": 18,
     "metadata": {},
     "output_type": "execute_result"
    }
   ],
   "source": [
    "np.any(np.isnan(TargetOmega0Square1))"
   ]
  },
  {
   "cell_type": "markdown",
   "metadata": {},
   "source": [
    "## coupled van der Pol"
   ]
  },
  {
   "cell_type": "code",
   "execution_count": 33,
   "metadata": {},
   "outputs": [],
   "source": [
    "G= np.ones((N,N))-np.diag(np.ones(N))\n",
    "L=csgraph.laplacian(G, normed=False)"
   ]
  },
  {
   "cell_type": "markdown",
   "metadata": {},
   "source": [
    "### copled with x"
   ]
  },
  {
   "cell_type": "code",
   "execution_count": 34,
   "metadata": {},
   "outputs": [],
   "source": [
    "def coupled_vanderpol( t,x , K =0,alpha = 30,omega0 = 1):\n",
    "    n = len(x)//2\n",
    "    dx0dt = x[n:]-K/n*np.dot(L,x[:n])\n",
    "    dx1dt = alpha * (1 - x[:n]**2)*x[n:]-omega0*x[:n]\n",
    "    return np.hstack((dx0dt,dx1dt))\n",
    "\n",
    "def J_func( t, x , K, alpha, omega0):\n",
    "    n = len(x)//2\n",
    "    return np.vstack(\n",
    "        (np.hstack((-K/n*L, np.diag(np.ones(n)))),\n",
    "        np.hstack((np.diag(-omega0-2*alpha*x[:n]*x[n:]),np.diag(alpha*(1-x[:n]**2)))))\n",
    "    )"
   ]
  },
  {
   "cell_type": "code",
   "execution_count": 90,
   "metadata": {},
   "outputs": [],
   "source": [
    "t0=0\n",
    "t_end_o =600\n",
    "dt= 0.1\n",
    "t_half = int((t_end_o-t0)/dt*0.5)\n",
    "alpha = alpha1\n",
    "omega0Sqrare = TargetOmega0Square1\n",
    "\n",
    "X0=[2]*N+[0]*N\n",
    "Hist_OP = []\n",
    "OP=[]\n",
    "OPTrack = []"
   ]
  },
  {
   "cell_type": "code",
   "execution_count": 91,
   "metadata": {
    "scrolled": true
   },
   "outputs": [
    {
     "data": {
      "text/plain": [
       "<scipy.integrate._ode.ode at 0x1c262e9f98>"
      ]
     },
     "execution_count": 91,
     "metadata": {},
     "output_type": "execute_result"
    }
   ],
   "source": [
    "solver = ode(coupled_vanderpol, jac=J_func)\n",
    "solver.set_integrator('dopri5', atol=1e-10, rtol=1e-8,nsteps=100000)"
   ]
  },
  {
   "cell_type": "code",
   "execution_count": 1,
   "metadata": {
    "scrolled": false
   },
   "outputs": [],
   "source": [
    "for K in np.hstack((np.linspace(1.2,0.025,48),np.linspace(0,1.175,48))):\n",
    "\n",
    "    if len(solver.y) != 1 and (solver.y).any !=0 :\n",
    "        X0 = solver.y\n",
    "    solver.set_f_params(K,alpha,omega0Sqrare)\n",
    "    solver.set_initial_value(X0, t0)\n",
    "    t_end = t_end_o\n",
    "    points = np.empty((int((t_end-t0)/dt)+1,2*N))\n",
    "    i = 0\n",
    "    while solver.successful() and solver.t < t_end:\n",
    "        point = solver.integrate(solver.t+dt)\n",
    "        points[i]=point\n",
    "        i += 1\n",
    "\n",
    "\n",
    "    pointsnxy = points.reshape(len(points),2,-1)\n",
    "    xs= pointsnxy[:,0,:].T\n",
    "    phasesDyn = np.concatenate([[phaseInterpol(test)] for test in xs]).T\n",
    "    OPs = np.concatenate([order_param(phi,N) for phi in phasesDyn],axis=1)\n",
    "    OP=OPs[0,:]\n",
    "    print('K= %8.3f  ,Mean: %3.3f ' ' ,Std: %5.4f , return: %2d'%(K,np.mean(OP[-t_half:]),np.std(OP[-t_half:]),solver.get_return_code()))\n",
    "    # Hist_OP = np.vstack((Hist_OP,[K,np.mean(OP[:,0]),np.std(OP[:,0])]))\n",
    "    OPTrack.append(OP)\n",
    "    if len(Hist_OP) == 0:\n",
    "        Hist_OP = np.array([[K,np.mean(OP[-t_half:]),np.std(OP[-t_half:])]])\n",
    "    else:\n",
    "        Hist_OP = np.vstack((Hist_OP,[K,np.mean(OP[-t_half:]),np.std(OP[-t_half:])]))\n",
    "        \n",
    "with open('./data/Hist_OP_alpha%2.3f_x_t%3d.pkl'%(alpha,t_end_o), 'wb') as f:  # Python 3: open(..., 'wb')\n",
    "        pickle.dump(Hist_OP, f)\n",
    "        \n",
    "with open('./data/OPTrack_alpha%2.3f_x_t%3d.pkl'%(alpha,t_end_o), 'wb') as f:  # Python 3: open(..., 'wb')\n",
    "        pickle.dump(OPTrack, f)"
   ]
  },
  {
   "cell_type": "markdown",
   "metadata": {},
   "source": [
    "## $\\alpha =10$"
   ]
  },
  {
   "cell_type": "code",
   "execution_count": 3,
   "metadata": {
    "scrolled": true
   },
   "outputs": [],
   "source": [
    "alpha10 = 10\n",
    "X0 = [2, 0]\n",
    "\n",
    "\n",
    "omega0SquareResolution = 10\n",
    "omega0SquareStart = 0\n",
    "omega0SquareEnd = 16\n",
    "Talpha10 = np.empty(((omega0SquareEnd-omega0SquareStart)*omega0SquareResolution+1,4),dtype=object)\n",
    "\n",
    "for idx,omega0Square in enumerate(np.linspace(omega0SquareStart,omega0SquareEnd,(omega0SquareEnd\n",
    "                                                                                 -omega0SquareStart)*omega0SquareResolution+1)) :\n",
    "    Trajectory = vanDerPolTrajectory(alpha10, omega0Square,X0,resolution, t_end)\n",
    "    Talpha10[idx]= TandLC(Trajectory,alpha10,omega0Square)\n",
    "\n"
   ]
  },
  {
   "cell_type": "code",
   "execution_count": 15,
   "metadata": {},
   "outputs": [],
   "source": [
    "NotNanIdx = np.where(~np.isnan(np.asarray(Talpha10[:,2],dtype=np.float64)))"
   ]
  },
  {
   "cell_type": "code",
   "execution_count": 16,
   "metadata": {},
   "outputs": [],
   "source": [
    "interpolatorOmegaSquareOmegaialpha10 =  interp1d(2*np.pi/Talpha10[:,2][NotNanIdx], (Talpha10[:,1][NotNanIdx]))"
   ]
  },
  {
   "cell_type": "code",
   "execution_count": 17,
   "metadata": {},
   "outputs": [],
   "source": [
    "TargetOmega0Square10= np.asarray(interpolatorOmegaSquareOmegaialpha10(sample),dtype=np.float64)"
   ]
  },
  {
   "cell_type": "code",
   "execution_count": 18,
   "metadata": {
    "scrolled": false
   },
   "outputs": [
    {
     "data": {
      "text/plain": [
       "False"
      ]
     },
     "execution_count": 18,
     "metadata": {},
     "output_type": "execute_result"
    }
   ],
   "source": [
    "np.any(np.isnan(TargetOmega0Square10))"
   ]
  },
  {
   "cell_type": "code",
   "execution_count": 90,
   "metadata": {},
   "outputs": [],
   "source": [
    "t0=0\n",
    "t_end_o =600\n",
    "dt= 0.1\n",
    "t_half = int((t_end_o-t0)/dt*0.5)\n",
    "alpha = alpha10\n",
    "omega0Sqrare = TargetOmega0Square10\n",
    "\n",
    "X0=[2]*N+[0]*N\n",
    "Hist_OP = []\n",
    "OP=[]\n",
    "OPTrack = []"
   ]
  },
  {
   "cell_type": "code",
   "execution_count": 91,
   "metadata": {
    "scrolled": true
   },
   "outputs": [
    {
     "data": {
      "text/plain": [
       "<scipy.integrate._ode.ode at 0x1c262e9f98>"
      ]
     },
     "execution_count": 91,
     "metadata": {},
     "output_type": "execute_result"
    }
   ],
   "source": [
    "solver = ode(coupled_vanderpol, jac=J_func)\n",
    "solver.set_integrator('dopri5', atol=1e-10, rtol=1e-8,nsteps=100000)"
   ]
  },
  {
   "cell_type": "code",
   "execution_count": 1,
   "metadata": {
    "scrolled": false
   },
   "outputs": [],
   "source": [
    "for K in np.hstack((np.linspace(1.2,0.025,48),np.linspace(0,1.175,48))):\n",
    "\n",
    "    if len(solver.y) != 1 and (solver.y).any !=0 :\n",
    "        X0 = solver.y\n",
    "    solver.set_f_params(K,alpha,omega0Sqrare)\n",
    "    solver.set_initial_value(X0, t0)\n",
    "    t_end = t_end_o\n",
    "    points = np.empty((int((t_end-t0)/dt)+1,2*N))\n",
    "    i = 0\n",
    "    while solver.successful() and solver.t < t_end:\n",
    "        point = solver.integrate(solver.t+dt)\n",
    "        points[i]=point\n",
    "        i += 1\n",
    "\n",
    "\n",
    "    pointsnxy = points.reshape(len(points),2,-1)\n",
    "    xs= pointsnxy[:,0,:].T\n",
    "    phasesDyn = np.concatenate([[phaseInterpol(test)] for test in xs]).T\n",
    "    OPs = np.concatenate([order_param(phi,N) for phi in phasesDyn],axis=1)\n",
    "    OP=OPs[0,:]\n",
    "    print('K= %8.3f  ,Mean: %3.3f ' ' ,Std: %5.4f , return: %2d'%(K,np.mean(OP[-t_half:]),np.std(OP[-t_half:]),solver.get_return_code()))\n",
    "    # Hist_OP = np.vstack((Hist_OP,[K,np.mean(OP[:,0]),np.std(OP[:,0])]))\n",
    "    OPTrack.append(OP)\n",
    "    if len(Hist_OP) == 0:\n",
    "        Hist_OP = np.array([[K,np.mean(OP[-t_half:]),np.std(OP[-t_half:])]])\n",
    "    else:\n",
    "        Hist_OP = np.vstack((Hist_OP,[K,np.mean(OP[-t_half:]),np.std(OP[-t_half:])]))\n",
    "        \n",
    "with open('./data/Hist_OP_alpha%2.3f_x_t%3d.pkl'%(alpha,t_end_o), 'wb') as f:  # Python 3: open(..., 'wb')\n",
    "        pickle.dump(Hist_OP, f)\n",
    "        \n",
    "with open('./data/OPTrack_alpha%2.3f_x_t%3d.pkl'%(alpha,t_end_o), 'wb') as f:  # Python 3: open(..., 'wb')\n",
    "        pickle.dump(OPTrack, f)\n",
    "\n"
   ]
  }
 ],
 "metadata": {
  "kernelspec": {
   "display_name": "Python 3",
   "language": "python",
   "name": "python3"
  },
  "language_info": {
   "codemirror_mode": {
    "name": "ipython",
    "version": 3
   },
   "file_extension": ".py",
   "mimetype": "text/x-python",
   "name": "python",
   "nbconvert_exporter": "python",
   "pygments_lexer": "ipython3",
   "version": "3.6.6"
  }
 },
 "nbformat": 4,
 "nbformat_minor": 2
}
