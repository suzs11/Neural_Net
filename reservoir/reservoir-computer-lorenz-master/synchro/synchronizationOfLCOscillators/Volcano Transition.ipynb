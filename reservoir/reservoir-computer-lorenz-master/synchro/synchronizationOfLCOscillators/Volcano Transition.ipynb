{
 "cells": [
  {
   "cell_type": "code",
   "execution_count": 1,
   "metadata": {
    "scrolled": true
   },
   "outputs": [],
   "source": [
    "import numpy as np\n",
    "import matplotlib.pyplot as plt\n",
    "from numpy.random import shuffle\n",
    "from scipy.integrate import ode, odeint\n",
    "from scipy.sparse import csgraph\n",
    "from scipy.signal import find_peaks\n",
    "from scipy.spatial import distance\n",
    "from scipy.stats import norm\n",
    "from scipy.interpolate import interp1d\n",
    "from matplotlib.pylab import rcParams\n",
    "from matplotlib import animation\n",
    "import pickle\n",
    "import collections\n",
    "from IPython.display import HTML"
   ]
  },
  {
   "cell_type": "code",
   "execution_count": 2,
   "metadata": {},
   "outputs": [],
   "source": [
    "%matplotlib inline\n",
    "rcParams['figure.figsize'] = 15, 6\n",
    "rcParams['animation.html'] = 'html5'"
   ]
  },
  {
   "cell_type": "code",
   "execution_count": 3,
   "metadata": {},
   "outputs": [],
   "source": [
    "def disarrange(a, axis=-1):\n",
    "    \"\"\"\n",
    "    Shuffle `a` in-place along the given axis.\n",
    "\n",
    "    Apply numpy.random.shuffle to the given axis of `a`.\n",
    "    Each one-dimensional slice is shuffled independently.\n",
    "    \"\"\"\n",
    "    b = a.swapaxes(axis, -1)\n",
    "    # Shuffle `b` in-place along the last axis.  `b` is a view of `a`,\n",
    "    # so `a` is shuffled in place, too.\n",
    "    shp = b.shape[:-1]\n",
    "    for ndx in np.ndindex(shp):\n",
    "        np.random.shuffle(b[ndx])\n",
    "    return"
   ]
  },
  {
   "cell_type": "code",
   "execution_count": 4,
   "metadata": {},
   "outputs": [],
   "source": [
    "def RandAdj(N=500,K=500):\n",
    "    #N*N*K -1 1 Tensor\n",
    "    u=np.array([[[-1]*int(K/2)+[1]*int(K/2)]*N]*N)\n",
    "    disarrange(u)\n",
    "    uu= (np.swapaxes(u,0,1)*u)*[[(((-1)**(np.arange(K)+1)))]]\n",
    "    JN= np.sum(uu[:,:,:100],axis = -1)#/N\n",
    "    return JN"
   ]
  },
  {
   "cell_type": "code",
   "execution_count": 5,
   "metadata": {},
   "outputs": [],
   "source": [
    "def plotRandAdj(JN,axis=-1):\n",
    "    plt.figure()\n",
    "    plt.plot(JN[axis,:])\n",
    "    values, num = np.unique(JN[axis], return_counts=True)\n",
    "    plt.xlabel('Nodes' , fontsize=15)\n",
    "    plt.ylabel('Values', fontsize=15)\n",
    "    plt.figure()\n",
    "    plt.plot(np.correlate(JN[axis],JN[axis],mode='full'))\n",
    "    plt.title('Correlation', fontsize=17)\n",
    "    plt.xlabel('Nodes', fontsize=15)\n",
    "    plt.figure()\n",
    "    plt.hist(JN[0],bins=len(values)-1)\n",
    "    plt.title('Histogram', fontsize=17)\n",
    "    plt.xlabel('Nodes', fontsize=15)\n",
    "    plt.ylabel('Frequency', fontsize=15)\n",
    "    "
   ]
  },
  {
   "cell_type": "code",
   "execution_count": 6,
   "metadata": {},
   "outputs": [],
   "source": [
    "def consecutive(data, stepsize=1):\n",
    "    return np.hsplit(data, np.where(np.diff(data) != stepsize)[0]+1)"
   ]
  },
  {
   "cell_type": "code",
   "execution_count": 7,
   "metadata": {},
   "outputs": [],
   "source": [
    "def order_param(theta, N, k=1):\n",
    "    \"\"\"Returns kth order parameter\n",
    "    \"\"\"\n",
    "    Rk = np.sum( np.exp(1j * k * theta.reshape(-1,N)), axis=1 )/N\n",
    "    return np.abs(Rk), np.angle(Rk)"
   ]
  },
  {
   "cell_type": "code",
   "execution_count": 8,
   "metadata": {},
   "outputs": [],
   "source": [
    "def plot_LC_with_s(trait):\n",
    "    plt.plot(trait[::,0],trait[::,1],'.')\n",
    "    plt.plot(trait[0,0],trait[0,1],'ok')\n",
    "    plt.xlabel(r'$x$',fontsize=15)\n",
    "    plt.ylabel(r'$\\dot{x}$',fontsize=15)"
   ]
  },
  {
   "cell_type": "code",
   "execution_count": 9,
   "metadata": {},
   "outputs": [],
   "source": [
    "def make_vanderpl(alpha,omega0_square):\n",
    "    def vanderpol(X, t):\n",
    "        x = X[0]\n",
    "        y = X[1]\n",
    "        dxdt = y\n",
    "        dydt = alpha * (1 - x**2)*y-omega0_square*x\n",
    "        return [dxdt, dydt]\n",
    "    return vanderpol"
   ]
  },
  {
   "cell_type": "code",
   "execution_count": 10,
   "metadata": {},
   "outputs": [],
   "source": [
    "def vanDerPolTrajectory(alpha, omega0_square,X0=[2,0],resolution = 2000, t_end = 150):\n",
    "    t = np.linspace(0,t_end, t_end*resolution+1)\n",
    "    \n",
    "    return odeint(make_vanderpl(alpha,omega0_square), X0, t)\n",
    "    "
   ]
  },
  {
   "cell_type": "code",
   "execution_count": 11,
   "metadata": {},
   "outputs": [],
   "source": [
    "def TandLC(trajectory, alpha, omega0_square):\n",
    "    # Neighborhood Radius\n",
    "    cutoff = np.floor(t_end*resolution*0.2).astype(int)\n",
    "    T = np.empty(4, dtype=object)\n",
    "    \n",
    "    sol_cut = trajectory[-cutoff:]\n",
    "    peaks, _ = find_peaks(sol_cut[:,0],height=0)\n",
    "    try:\n",
    "        ind1= peaks[-2]\n",
    "        ind2= peaks[-1]\n",
    "        TrackLC = sol_cut[ind1:ind2+1]\n",
    "        phaseZ = np.argmax(TrackLC[:,0])\n",
    "        T[0]= alpha \n",
    "        T[1]=omega0_square\n",
    "        T[2]=((ind2-ind1)/resolution)\n",
    "        T[3]= np.roll( TrackLC, -phaseZ, axis = 0 )\n",
    "        return T\n",
    "        \n",
    "    except:\n",
    "        print(alpha)\n",
    "        print(omega0_square)\n",
    "        print(peaks)\n",
    "        T[0]= alpha\n",
    "        T[1]= omega0_square\n",
    "        T[2]= np.nan\n",
    "        T[3]= trajectory#np.nan\n",
    "        return T"
   ]
  },
  {
   "cell_type": "code",
   "execution_count": 12,
   "metadata": {},
   "outputs": [],
   "source": [
    "def tableOfLC(alpha, omega0_sqr):\n",
    "    table = np.empty((len(alpha),len(omega0_sqr),4),dtype=object)\n",
    "    for idx , alp in enumerate(alpha):\n",
    "        for idy, ome in enumerate(omega0_sqr):\n",
    "                    Trajectory = vanDerPolTrajectory(alp,ome,X0,resolution, t_end)\n",
    "                    table[idx][idy]= TandLC(Trajectory,alp,ome)\n",
    "    return table"
   ]
  },
  {
   "cell_type": "code",
   "execution_count": 13,
   "metadata": {},
   "outputs": [],
   "source": [
    "def T_and_LC(alpha, omega0_square):\n",
    "    X0 = [2, 0]\n",
    "    resolution = 2000\n",
    "    t_end = 150\n",
    "    t = np.linspace(0,t_end, t_end*resolution+1)\n",
    "\n",
    "    dist_min = 0.008\n",
    "    cutoff = np.floor(t_end*resolution*0.2).astype(int)\n",
    "    T = np.empty(4, dtype=object)\n",
    "    cutoff = np.floor(t_end*resolution*0.5).astype(int)\n",
    "    \n",
    "    #Phasenporträt\n",
    "\n",
    "    sol_in = odeint(make_vanderpl(alpha,omega0_square), X0, t)\n",
    "    \n",
    "    sol_cut = sol_in[-cutoff:]\n",
    "    reference = np.argmin(np.sum((sol_cut[:-1]-sol_cut[1:])**2,1))\n",
    "    dist_to_last = ((np.sum((sol_cut-sol_cut[reference])**2,1))**(1/2))\n",
    "\n",
    "    poincare = consecutive(np.where(dist_to_last <= dist_min)[0])\n",
    "    peaks=np.fromiter((np.mean(xi) for xi in poincare), dtype=np.float, count=len(poincare))\n",
    "    try:\n",
    "        ind1= np.floor(peaks[-2]).astype(int)\n",
    "        ind2= np.floor(peaks[-1]).astype(int)\n",
    "        TrackLC = sol_cut[ind1:ind2+1]\n",
    "        phaseZ = np.argmax(TrackLC[:,0])\n",
    "        T[0]= alpha \n",
    "        T[1]=omega0_square\n",
    "        T[2]=((ind2-ind1)/resolution)\n",
    "        T[3]= np.roll( TrackLC, -phaseZ, axis = 0 )\n",
    "        return T\n",
    "        \n",
    "    except:\n",
    "        print(alpha)\n",
    "        print(omega0_square)\n",
    "        print(peaks)\n",
    "        T[0]= alpha\n",
    "        T[1]= omega0_square\n",
    "        T[2]= np.nan\n",
    "        T[3]= sol_in#np.nan\n",
    "        return T"
   ]
  },
  {
   "cell_type": "code",
   "execution_count": 72,
   "metadata": {},
   "outputs": [],
   "source": [
    "def phaseInterpol(x):\n",
    "    peaks, _ = find_peaks(x,height=1,distance=50)#, distance=LC_sample[0,nr,2]/dt*0.6)\n",
    "#     peaks = np.insert(peaks, 0, 0)\n",
    "    Ts =np.diff(peaks)\n",
    "    head =np.linspace(0,2*np.pi,num= Ts[0])[-peaks[0]-1:-1]\n",
    "    phase = np.concatenate([np.linspace(0,2*np.pi,num=Tn+1)[:-1] for Tn in Ts])\n",
    "    if peaks[0] != 0:\n",
    "        phase = np.concatenate((head,phase ))\n",
    "    while len(phase) < len(x):\n",
    "        phase = np.concatenate((phase, np.linspace(0,2*np.pi,num=Ts[-1]) ))[:len(x)]\n",
    "    return phase"
   ]
  },
  {
   "cell_type": "code",
   "execution_count": 26,
   "metadata": {},
   "outputs": [
    {
     "name": "stdout",
     "output_type": "stream",
     "text": [
      "1\n",
      "0.0\n",
      "[]\n",
      "1\n",
      "0.1\n",
      "[46159]\n"
     ]
    }
   ],
   "source": [
    "alpha1 = 1\n",
    "X0 = [2, 0]\n",
    "resolution = 2000\n",
    "t_end = 150\n",
    "\n",
    "omega0SquareResolution = 10\n",
    "omega0SquareStart = 0\n",
    "omega0SquareEnd = 16\n",
    "Talpha1 = np.empty(((omega0SquareEnd-omega0SquareStart)*omega0SquareResolution+1,4),dtype=object)\n",
    "\n",
    "for idx,omega0Square in enumerate(np.linspace(omega0SquareStart,omega0SquareEnd,(omega0SquareEnd\n",
    "                                                                                 -omega0SquareStart)*omega0SquareResolution+1)) :\n",
    "    Trajectory = vanDerPolTrajectory(alpha1, omega0Square,X0,resolution, t_end)\n",
    "    Talpha1[idx]= TandLC(Trajectory,alpha1,omega0Square)\n",
    "\n",
    "\n"
   ]
  },
  {
   "cell_type": "code",
   "execution_count": 28,
   "metadata": {},
   "outputs": [
    {
     "name": "stdout",
     "output_type": "stream",
     "text": [
      "Critical Value of Coupling:  0.07978845608028654\n"
     ]
    }
   ],
   "source": [
    "np.random.seed(3) \n",
    "mean_w = 0.75                            #mean of distribution of natural frequencies of oscillators\n",
    "std_w = 0.05                           #standard deviation of disribution of natural freqs\n",
    "N=1000\n",
    "K = None #will loop over this          #coupling strength\n",
    "sample = np.random.normal(mean_w, std_w, N)\n",
    "g0= norm.pdf(0,0,std_w)\n",
    "Kc=2/(np.pi*g0)\n",
    "print(\"Critical Value of Coupling: \",Kc)"
   ]
  },
  {
   "cell_type": "code",
   "execution_count": 29,
   "metadata": {},
   "outputs": [
    {
     "data": {
      "text/plain": [
       "False"
      ]
     },
     "execution_count": 29,
     "metadata": {},
     "output_type": "execute_result"
    }
   ],
   "source": [
    "NotNanIdx = np.where(~np.isnan(np.asarray(Talpha1[:,2],dtype=np.float64)))\n",
    "\n",
    "interpolatorOmegaSquareOmegaialpha1 =  interp1d(2*np.pi/Talpha1[:,2][NotNanIdx], (Talpha1[:,1][NotNanIdx]))\n",
    "\n",
    "TargetOmega0Square1 = np.asarray(interpolatorOmegaSquareOmegaialpha1(sample),dtype=np.float64)\n",
    "\n",
    "np.any(np.isnan(TargetOmega0Square1))"
   ]
  },
  {
   "cell_type": "markdown",
   "metadata": {},
   "source": [
    "## $\\alpha=10$"
   ]
  },
  {
   "cell_type": "code",
   "execution_count": 35,
   "metadata": {
    "scrolled": false
   },
   "outputs": [
    {
     "name": "stdout",
     "output_type": "stream",
     "text": [
      "10\n",
      "0.0\n",
      "[]\n",
      "10\n",
      "0.1\n",
      "[]\n",
      "10\n",
      "0.2\n",
      "[]\n",
      "10\n",
      "0.30000000000000004\n",
      "[65601]\n",
      "10\n",
      "0.4\n",
      "[43492]\n",
      "10\n",
      "0.5\n",
      "[31871]\n"
     ]
    }
   ],
   "source": [
    "alpha10 = 10\n",
    "X0 = [2, 0]\n",
    "resolution = 2000\n",
    "t_end = 250\n",
    "\n",
    "omega0SquareResolution = 10\n",
    "omega0SquareStart = 0\n",
    "omega0SquareEnd = 16\n",
    "Talpha10 = np.empty(((omega0SquareEnd-omega0SquareStart)*omega0SquareResolution+1,4),dtype=object)\n",
    "\n",
    "for idx,omega0Square in enumerate(np.linspace(omega0SquareStart,omega0SquareEnd,(omega0SquareEnd\n",
    "                                                                                 -omega0SquareStart)*omega0SquareResolution+1)) :\n",
    "    Trajectory = vanDerPolTrajectory(alpha10, omega0Square,X0,resolution, t_end)\n",
    "    Talpha10[idx]= TandLC(Trajectory,alpha10,omega0Square)\n",
    "\n",
    "\n"
   ]
  },
  {
   "cell_type": "code",
   "execution_count": 37,
   "metadata": {},
   "outputs": [
    {
     "data": {
      "text/plain": [
       "False"
      ]
     },
     "execution_count": 37,
     "metadata": {},
     "output_type": "execute_result"
    }
   ],
   "source": [
    "NotNanIdx = np.where(~np.isnan(np.asarray(Talpha1[:,2],dtype=np.float64)))\n",
    "\n",
    "interpolatorOmegaSquareOmegaialpha10 =  interp1d(2*np.pi/Talpha10[:,2][NotNanIdx], (Talpha10[:,1][NotNanIdx]))\n",
    "\n",
    "TargetOmega0Square10 = np.asarray(interpolatorOmegaSquareOmegaialpha10(sample),dtype=np.float64)\n",
    "\n",
    "np.any(np.isnan(TargetOmega0Square10))"
   ]
  },
  {
   "cell_type": "markdown",
   "metadata": {},
   "source": [
    "## coupled van der Pol"
   ]
  },
  {
   "cell_type": "code",
   "execution_count": 90,
   "metadata": {},
   "outputs": [],
   "source": [
    "# JN10=RandAdj(N=N,K=10)"
   ]
  },
  {
   "cell_type": "code",
   "execution_count": 63,
   "metadata": {},
   "outputs": [],
   "source": [
    "# JN100=RandAdj(N=N,K=100)"
   ]
  },
  {
   "cell_type": "code",
   "execution_count": 66,
   "metadata": {},
   "outputs": [],
   "source": [
    "# JN1000=RandAdj(N=N,K=1000)"
   ]
  },
  {
   "cell_type": "code",
   "execution_count": 92,
   "metadata": {},
   "outputs": [],
   "source": [
    "# with open('./data/JN_N_1000_K_10.pkl', 'wb') as f:  # Python 3: open(..., 'wb')\n",
    "#     pickle.dump(JN10, f)"
   ]
  },
  {
   "cell_type": "code",
   "execution_count": 92,
   "metadata": {},
   "outputs": [],
   "source": [
    "# with open('./data/JN_N_1000_K_100.pkl', 'wb') as f:  # Python 3: open(..., 'wb')\n",
    "#     pickle.dump(JN100, f)"
   ]
  },
  {
   "cell_type": "code",
   "execution_count": 92,
   "metadata": {},
   "outputs": [],
   "source": [
    "# with open('./data/JN_N_1000_K_1000.pkl', 'wb') as f:  # Python 3: open(..., 'wb')\n",
    "#     pickle.dump(JN1000, f)"
   ]
  },
  {
   "cell_type": "code",
   "execution_count": 78,
   "metadata": {},
   "outputs": [],
   "source": [
    "with open('./data/JN_N_1000_K_10.pkl', 'rb') as f:  # Python 3: open(..., 'wb')\n",
    "    JN10 = pickle.load(f)"
   ]
  },
  {
   "cell_type": "code",
   "execution_count": 78,
   "metadata": {},
   "outputs": [],
   "source": [
    "with open('./data/JN_N_1000_K_100.pkl', 'rb') as f:  # Python 3: open(..., 'wb')\n",
    "    JN100 = pickle.load(f)"
   ]
  },
  {
   "cell_type": "code",
   "execution_count": 78,
   "metadata": {},
   "outputs": [],
   "source": [
    "with open('./data/JN_N_1000_K_1000.pkl', 'rb') as f:  # Python 3: open(..., 'wb')\n",
    "    JN100 = pickle.load(f)"
   ]
  },
  {
   "cell_type": "markdown",
   "metadata": {},
   "source": [
    "# High-Rank"
   ]
  },
  {
   "cell_type": "markdown",
   "metadata": {},
   "source": [
    "## coupled van der Pol"
   ]
  },
  {
   "cell_type": "code",
   "execution_count": 79,
   "metadata": {
    "scrolled": true
   },
   "outputs": [],
   "source": [
    "JN=JN1000"
   ]
  },
  {
   "cell_type": "code",
   "execution_count": 80,
   "metadata": {
    "scrolled": true
   },
   "outputs": [],
   "source": [
    "G=JN\n",
    "L=csgraph.laplacian(G, normed=False)"
   ]
  },
  {
   "cell_type": "markdown",
   "metadata": {},
   "source": [
    "## $ \\dot{x}$ coupled "
   ]
  },
  {
   "cell_type": "code",
   "execution_count": 91,
   "metadata": {},
   "outputs": [],
   "source": [
    "def coupled_vanderpol( t,x , K =0,alpha = 30,omega0 = 1):\n",
    "    n = len(x)//2\n",
    "    dx0dt = x[n:]\n",
    "    dx1dt = alpha * (1 - x[:n]**2)*x[n:]-omega0*x[:n]-K/n*np.dot(L,x[n:])\n",
    "    return np.hstack((dx0dt,dx1dt))\n",
    "\n",
    "def J_func(t,x, K, alpha, omega0):\n",
    "#     print('J_func called')\n",
    "    n = len(x)//2\n",
    "    return np.vstack(\n",
    "        (np.hstack((np.zeros((n,n)), np.diag(np.ones(n)))),\n",
    "        np.hstack((np.diag(-omega0-2*alpha*x[:n]*x[n:]),np.diag(alpha*(1-x[:n]**2))-K/n*L)))\n",
    "    )"
   ]
  },
  {
   "cell_type": "code",
   "execution_count": 92,
   "metadata": {},
   "outputs": [],
   "source": [
    "solver = ode(coupled_vanderpol, jac=J_func)\n",
    "solver.set_integrator('dopri5', atol=1e-10, rtol=1e-8,nsteps=100000)\n",
    "\n",
    "first = False\n",
    "\n",
    "t0=0\n",
    "\n",
    "t_end_o =100\n",
    "dt= 0.1\n",
    "t_half = int((t_end_o-t0)/dt*0.5)\n",
    "t_start = int((t_half)*0.5)\n",
    "alpha = alpha1"
   ]
  },
  {
   "cell_type": "code",
   "execution_count": 83,
   "metadata": {},
   "outputs": [],
   "source": [
    "X0=[2]*N+[0]*N"
   ]
  },
  {
   "cell_type": "code",
   "execution_count": 93,
   "metadata": {
    "scrolled": true
   },
   "outputs": [],
   "source": [
    "for K in [0.2,5,10]:\n",
    "    solver.set_f_params(K,alpha,TargetOmega0Square1)\n",
    "    solver.set_jac_params(K,alpha,TargetOmega0Square1)\n",
    "\n",
    "    solver.set_initial_value(X0, t0)\n",
    "    t_end = t_end_o\n",
    "    points = np.empty((int((t_end-t0)/dt)+1,2*N))\n",
    "    i = 0\n",
    "    while solver.successful() and solver.t < t_end:\n",
    "        point = solver.integrate(solver.t+dt)\n",
    "        points[i]=point\n",
    "        i += 1\n",
    "\n",
    "\n",
    "    pointsnxy = points.reshape(len(points),2,-1)\n",
    "    xs= pointsnxy[:,0,:].T\n",
    "    phasesDyn = np.concatenate([[phaseInterpol(test)] for test in xs]).T\n",
    "    OPs = np.concatenate([order_param(phi,N) for phi in phasesDyn],axis=1)\n",
    "    with open('./data/pointsnxy_alpha%2.3f_J%2.1f_y_t%3d.pkl'%(alpha,K,t_end_o), 'wb') as f:  # Python 3: open(..., 'wb')\n",
    "        pickle.dump(pointsnxy, f)\n",
    "    with open('./data/phasesDyn_alpha%2.3f_J%2.1f_y_t%3d.pkl'%(alpha,K,t_end_o), 'wb') as f:  # Python 3: open(..., 'wb')\n",
    "        pickle.dump(phasesDyn, f)\n",
    "    with open('./data/OPs_alpha%2.3f_J%2.1f_y_t%3d.pkl'%(alpha,K,t_end_o), 'wb') as f:  # Python 3: open(..., 'wb')\n",
    "        pickle.dump(OPs, f)"
   ]
  },
  {
   "cell_type": "markdown",
   "metadata": {},
   "source": [
    "## $\\alpha=10$"
   ]
  },
  {
   "cell_type": "markdown",
   "metadata": {},
   "source": [
    "## coupled van der Pol"
   ]
  },
  {
   "cell_type": "code",
   "execution_count": 94,
   "metadata": {},
   "outputs": [],
   "source": [
    "JN=JN10#RandAdj(N=N,K=N)"
   ]
  },
  {
   "cell_type": "code",
   "execution_count": 95,
   "metadata": {
    "scrolled": true
   },
   "outputs": [],
   "source": [
    "# n=len(omega0_sqr)\n",
    "# G= np.ones((n,n))-np.diag(np.ones(n))\n",
    "G=JN\n",
    "L=csgraph.laplacian(G, normed=False)"
   ]
  },
  {
   "cell_type": "markdown",
   "metadata": {},
   "source": [
    "## $ \\dot{x}$ coupled "
   ]
  },
  {
   "cell_type": "code",
   "execution_count": 96,
   "metadata": {},
   "outputs": [],
   "source": [
    "def coupled_vanderpol( t,x , K =0,alpha = 30,omega0 = 1):\n",
    "    n = len(x)//2\n",
    "    dx0dt = x[n:]\n",
    "    dx1dt = alpha * (1 - x[:n]**2)*x[n:]-omega0*x[:n]-K/n*np.dot(L,x[n:])\n",
    "    return np.hstack((dx0dt,dx1dt))\n",
    "\n",
    "def J_func(t,x, K, alpha, omega0):\n",
    "#     print('J_func called')\n",
    "    n = len(x)//2\n",
    "    return np.vstack(\n",
    "        (np.hstack((np.zeros((n,n)), np.diag(np.ones(n)))),\n",
    "        np.hstack((np.diag(-omega0-2*alpha*x[:n]*x[n:]),np.diag(alpha*(1-x[:n]**2))-K/n*L)))\n",
    "    )"
   ]
  },
  {
   "cell_type": "code",
   "execution_count": 97,
   "metadata": {},
   "outputs": [],
   "source": [
    "solver = ode(coupled_vanderpol, jac=J_func)\n",
    "# solver = ode(coupled_vanderpol)\n",
    "solver.set_integrator('dopri5', atol=1e-10, rtol=1e-8,nsteps=100000)\n",
    "\n",
    "first = False\n",
    "\n",
    "t0=0\n",
    "\n",
    "t_end_o =100\n",
    "\n",
    "# t_lin = np.linspace(t0, t_end, t_end*resolution+1)\n",
    "dt= 0.1\n",
    "t_half = int((t_end_o-t0)/dt*0.5)\n",
    "t_start = int((t_half)*0.5)\n",
    "alpha = alpha10"
   ]
  },
  {
   "cell_type": "code",
   "execution_count": 98,
   "metadata": {},
   "outputs": [],
   "source": [
    "X0=[2]*N+[0]*N"
   ]
  },
  {
   "cell_type": "code",
   "execution_count": 101,
   "metadata": {
    "scrolled": true
   },
   "outputs": [],
   "source": [
    "for K in [0.3,2.9,30]:\n",
    "    solver.set_f_params(K,alpha,TargetOmega0Square10)\n",
    "    solver.set_jac_params(K,alpha,TargetOmega0Square10)\n",
    "\n",
    "    solver.set_initial_value(X0, t0)\n",
    "    t_end = t_end_o\n",
    "    points = np.empty((int((t_end-t0)/dt)+1,2*N))\n",
    "    i = 0\n",
    "    while solver.successful() and solver.t < t_end:\n",
    "        point = solver.integrate(solver.t+dt)\n",
    "        points[i]=point\n",
    "        i += 1\n",
    "\n",
    "\n",
    "    pointsnxy = points.reshape(len(points),2,-1)\n",
    "    xs= pointsnxy[:,0,:].T\n",
    "    phasesDyn = np.concatenate([[phaseInterpol(test)] for test in xs]).T\n",
    "    OPs = np.concatenate([order_param(phi,N) for phi in phasesDyn],axis=1)\n",
    "    with open('./data/pointsnxy_alpha%2.3f_J%2.1f_y_t%3d.pkl'%(alpha,K,t_end_o), 'wb') as f:  # Python 3: open(..., 'wb')\n",
    "        pickle.dump(pointsnxy, f)\n",
    "    with open('./data/phasesDyn_alpha%2.3f_J%2.1f_y_t%3d.pkl'%(alpha,K,t_end_o), 'wb') as f:  # Python 3: open(..., 'wb')\n",
    "        pickle.dump(phasesDyn, f)\n",
    "    with open('./data/OPs_alpha%2.3f_J%2.1f_y_t%3d.pkl'%(alpha,K,t_end_o), 'wb') as f:  # Python 3: open(..., 'wb')\n",
    "        pickle.dump(OPs, f)\n"
   ]
  },
  {
   "cell_type": "markdown",
   "metadata": {},
   "source": [
    "# Low-Rank"
   ]
  },
  {
   "cell_type": "markdown",
   "metadata": {},
   "source": [
    "## coupled van der Pol"
   ]
  },
  {
   "cell_type": "code",
   "execution_count": 79,
   "metadata": {
    "scrolled": true
   },
   "outputs": [],
   "source": [
    "JN=JN10"
   ]
  },
  {
   "cell_type": "code",
   "execution_count": 80,
   "metadata": {
    "scrolled": true
   },
   "outputs": [],
   "source": [
    "G=JN\n",
    "L=csgraph.laplacian(G, normed=False)"
   ]
  },
  {
   "cell_type": "markdown",
   "metadata": {},
   "source": [
    "## $ \\dot{x}$ coupled "
   ]
  },
  {
   "cell_type": "code",
   "execution_count": 91,
   "metadata": {},
   "outputs": [],
   "source": [
    "def coupled_vanderpol( t,x , K =0,alpha = 30,omega0 = 1):\n",
    "    n = len(x)//2\n",
    "    dx0dt = x[n:]\n",
    "    dx1dt = alpha * (1 - x[:n]**2)*x[n:]-omega0*x[:n]-K/n*np.dot(L,x[n:])\n",
    "    return np.hstack((dx0dt,dx1dt))\n",
    "\n",
    "def J_func(t,x, K, alpha, omega0):\n",
    "#     print('J_func called')\n",
    "    n = len(x)//2\n",
    "    return np.vstack(\n",
    "        (np.hstack((np.zeros((n,n)), np.diag(np.ones(n)))),\n",
    "        np.hstack((np.diag(-omega0-2*alpha*x[:n]*x[n:]),np.diag(alpha*(1-x[:n]**2))-K/n*L)))\n",
    "    )"
   ]
  },
  {
   "cell_type": "code",
   "execution_count": 92,
   "metadata": {},
   "outputs": [],
   "source": [
    "solver = ode(coupled_vanderpol, jac=J_func)\n",
    "solver.set_integrator('dopri5', atol=1e-10, rtol=1e-8,nsteps=100000)\n",
    "\n",
    "first = False\n",
    "\n",
    "t0=0\n",
    "\n",
    "t_end_o =100\n",
    "dt= 0.1\n",
    "t_half = int((t_end_o-t0)/dt*0.5)\n",
    "t_start = int((t_half)*0.5)\n",
    "alpha = alpha1"
   ]
  },
  {
   "cell_type": "code",
   "execution_count": 83,
   "metadata": {},
   "outputs": [],
   "source": [
    "X0=[2]*N+[0]*N"
   ]
  },
  {
   "cell_type": "code",
   "execution_count": 93,
   "metadata": {
    "scrolled": true
   },
   "outputs": [],
   "source": [
    "for K in [0.2,5,20]:\n",
    "    solver.set_f_params(K,alpha,TargetOmega0Square1)\n",
    "    solver.set_jac_params(K,alpha,TargetOmega0Square1)\n",
    "\n",
    "    solver.set_initial_value(X0, t0)\n",
    "    t_end = t_end_o\n",
    "    points = np.empty((int((t_end-t0)/dt)+1,2*N))\n",
    "    i = 0\n",
    "    while solver.successful() and solver.t < t_end:\n",
    "        point = solver.integrate(solver.t+dt)\n",
    "        points[i]=point\n",
    "        i += 1\n",
    "\n",
    "\n",
    "    pointsnxy = points.reshape(len(points),2,-1)\n",
    "    xs= pointsnxy[:,0,:].T\n",
    "    phasesDyn = np.concatenate([[phaseInterpol(test)] for test in xs]).T\n",
    "    OPs = np.concatenate([order_param(phi,N) for phi in phasesDyn],axis=1)\n",
    "    with open('./data/pointsnxy_alpha%2.3f_J%2.1f_y_t%3d_K10.pkl'%(alpha,K,t_end_o), 'wb') as f:  # Python 3: open(..., 'wb')\n",
    "        pickle.dump(pointsnxy, f)\n",
    "    with open('./data/phasesDyn_alpha%2.3f_J%2.1f_y_t%3d_K10.pkl'%(alpha,K,t_end_o), 'wb') as f:  # Python 3: open(..., 'wb')\n",
    "        pickle.dump(phasesDyn, f)\n",
    "    with open('./data/OPs_alpha%2.3f_J%2.1f_y_t%3d_K10.pkl'%(alpha,K,t_end_o), 'wb') as f:  # Python 3: open(..., 'wb')\n",
    "        pickle.dump(OPs, f)"
   ]
  },
  {
   "cell_type": "markdown",
   "metadata": {},
   "source": [
    "## $\\alpha=10$"
   ]
  },
  {
   "cell_type": "markdown",
   "metadata": {},
   "source": [
    "## coupled van der Pol"
   ]
  },
  {
   "cell_type": "code",
   "execution_count": 94,
   "metadata": {},
   "outputs": [],
   "source": [
    "JN=JN10#RandAdj(N=N,K=N)"
   ]
  },
  {
   "cell_type": "code",
   "execution_count": 95,
   "metadata": {
    "scrolled": true
   },
   "outputs": [],
   "source": [
    "# n=len(omega0_sqr)\n",
    "# G= np.ones((n,n))-np.diag(np.ones(n))\n",
    "G=JN\n",
    "L=csgraph.laplacian(G, normed=False)"
   ]
  },
  {
   "cell_type": "markdown",
   "metadata": {},
   "source": [
    "## $ \\dot{x}$ coupled "
   ]
  },
  {
   "cell_type": "code",
   "execution_count": 96,
   "metadata": {},
   "outputs": [],
   "source": [
    "def coupled_vanderpol( t,x , K =0,alpha = 30,omega0 = 1):\n",
    "    n = len(x)//2\n",
    "    dx0dt = x[n:]\n",
    "    dx1dt = alpha * (1 - x[:n]**2)*x[n:]-omega0*x[:n]-K/n*np.dot(L,x[n:])\n",
    "    return np.hstack((dx0dt,dx1dt))\n",
    "\n",
    "def J_func(t,x, K, alpha, omega0):\n",
    "#     print('J_func called')\n",
    "    n = len(x)//2\n",
    "    return np.vstack(\n",
    "        (np.hstack((np.zeros((n,n)), np.diag(np.ones(n)))),\n",
    "        np.hstack((np.diag(-omega0-2*alpha*x[:n]*x[n:]),np.diag(alpha*(1-x[:n]**2))-K/n*L)))\n",
    "    )"
   ]
  },
  {
   "cell_type": "code",
   "execution_count": 97,
   "metadata": {},
   "outputs": [],
   "source": [
    "solver = ode(coupled_vanderpol, jac=J_func)\n",
    "# solver = ode(coupled_vanderpol)\n",
    "solver.set_integrator('dopri5', atol=1e-10, rtol=1e-8,nsteps=100000)\n",
    "\n",
    "first = False\n",
    "\n",
    "t0=0\n",
    "\n",
    "t_end_o =100\n",
    "\n",
    "# t_lin = np.linspace(t0, t_end, t_end*resolution+1)\n",
    "dt= 0.1\n",
    "t_half = int((t_end_o-t0)/dt*0.5)\n",
    "t_start = int((t_half)*0.5)\n",
    "alpha = alpha10"
   ]
  },
  {
   "cell_type": "code",
   "execution_count": 98,
   "metadata": {},
   "outputs": [],
   "source": [
    "X0=[2]*N+[0]*N"
   ]
  },
  {
   "cell_type": "code",
   "execution_count": 101,
   "metadata": {
    "scrolled": true
   },
   "outputs": [],
   "source": [
    "for K in [0.3,10,20]:\n",
    "    solver.set_f_params(K,alpha,TargetOmega0Square10)\n",
    "    solver.set_jac_params(K,alpha,TargetOmega0Square10)\n",
    "\n",
    "    solver.set_initial_value(X0, t0)\n",
    "    t_end = t_end_o\n",
    "    points = np.empty((int((t_end-t0)/dt)+1,2*N))\n",
    "    i = 0\n",
    "    while solver.successful() and solver.t < t_end:\n",
    "        point = solver.integrate(solver.t+dt)\n",
    "        points[i]=point\n",
    "        i += 1\n",
    "\n",
    "\n",
    "    pointsnxy = points.reshape(len(points),2,-1)\n",
    "    xs= pointsnxy[:,0,:].T\n",
    "    phasesDyn = np.concatenate([[phaseInterpol(test)] for test in xs]).T\n",
    "    OPs = np.concatenate([order_param(phi,N) for phi in phasesDyn],axis=1)\n",
    "    with open('./data/pointsnxy_alpha%2.3f_J%2.1f_y_t%3d_K10.pkl'%(alpha,K,t_end_o), 'wb') as f:  # Python 3: open(..., 'wb')\n",
    "        pickle.dump(pointsnxy, f)\n",
    "    with open('./data/phasesDyn_alpha%2.3f_J%2.1f_y_t%3d_K10.pkl'%(alpha,K,t_end_o), 'wb') as f:  # Python 3: open(..., 'wb')\n",
    "        pickle.dump(phasesDyn, f)\n",
    "    with open('./data/OPs_alpha%2.3f_J%2.1f_y_t%3d_K10.pkl'%(alpha,K,t_end_o), 'wb') as f:  # Python 3: open(..., 'wb')\n",
    "        pickle.dump(OPs, f)\n"
   ]
  }
 ],
 "metadata": {
  "kernelspec": {
   "display_name": "Python 3",
   "language": "python",
   "name": "python3"
  },
  "language_info": {
   "codemirror_mode": {
    "name": "ipython",
    "version": 3
   },
   "file_extension": ".py",
   "mimetype": "text/x-python",
   "name": "python",
   "nbconvert_exporter": "python",
   "pygments_lexer": "ipython3",
   "version": "3.6.6"
  }
 },
 "nbformat": 4,
 "nbformat_minor": 2
}
