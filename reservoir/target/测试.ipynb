{
 "cells": [
  {
   "cell_type": "code",
   "execution_count": null,
   "metadata": {},
   "outputs": [],
   "source": [
    "import numpy as np\n",
    "import matplotlib.pyplot as plt\n",
    "\n",
    "\n",
    "def noramlization(data):\n",
    "    minVals = data.min(0)\n",
    "    maxVals = data.max(0)\n",
    "    ranges = maxVals - minVals\n",
    "    normData = np.zeros(np.shape(data))\n",
    "    m = data.shape[0]\n",
    "    normData = data - np.tile(minVals, (m, 1))\n",
    "    normData = normData/np.tile(ranges, (m, 1))\n",
    "    return normData, ranges, minVals\n",
    "\n",
    "\n",
    "x = np.array([[78434.0829, 26829.86612], [78960.4042, 26855.13451], [72997.8308, 26543.79201],\n",
    "              [74160.2849, 26499.56629], [75908.5746, 26220.11996], [74880.6989, 26196.03995],\n",
    "              [74604.7169, 27096.87862], [79547.6796, 25986.68579], [74997.7791, 24021.50132],\n",
    "              [74487.4915, 26040.18441], [77134.2636, 24647.274],   [74975.2792, 24067.31441],\n",
    "              [76013.5305, 24566.02273], [79191.518,  26840.29867], [80653.4589, 25937.22248],\n",
    "              [79185.9935, 26996.18228], [74426.881,  24227.71439], [73246.4295, 26561.59268],\n",
    "              [77963.1478, 25580.05298], [74469.8778, 26082.15448], [81372.3787, 26649.69232],\n",
    "              [76826.8262, 24549.77367], [77774.2608, 25999.96037], [79673.1361, 25229.04353],\n",
    "              [75251.7951, 24902.72185], [78458.073,  23924.15117], [82247.5439, 29671.33493],\n",
    "              [82041.2247, 27903.34268], [80083.2029, 28692.35517], [80962.0043, 28519.81002],\n",
    "              [79799.8328, 28740.27736], [80743.9947, 28862.75402], [80888.449,  29724.53706],\n",
    "              [81768.4638, 30180.20618], [80283.8783, 30417.55057], [79460.7078, 29092.52867],\n",
    "              [75514.1202, 28071.73721], [80595.5945, 30292.25917], [80750.4876, 29651.32254],\n",
    "              [80020.662,  30023.70025], [82992.3395, 29466.83067], [80185.5946, 29943.15481],\n",
    "              [81854.6163, 29846.18257], [81526.4017, 30218.27078], [79174.5312, 29960.69999],\n",
    "              [78112.3051, 26467.57545], [80262.4121, 29340.23218], [81284.9734, 28257.71529],\n",
    "              [81928.9905, 28752.84811], [80739.2727, 29288.85126], [83135.3435, 30223.4974],\n",
    "              [83131.8223, 29049.10112], [82549.9076, 28910.15209], [81574.0822, 28326.55367],\n",
    "              [80507.399,  28553.56851], [82956.2103, 29157.62372], [81909.7132, 29359.24497],\n",
    "              [80893.5603, 29326.64155], [82520.1272, 30424.96703], [82829.8548, 31062.24418],\n",
    "              [80532.1495, 29198.10407], [80112.7963, 29143.47905], [81175.0882, 28443.10574]])\n",
    "\n",
    "newgroup,_,_= noramlization(x)\n",
    "newdata = newgroup\n",
    "plt.scatter(x[:, 0], x[:, 1], marker='*', c='r', s=24)\n",
    "plt.show()\n",
    "#print(len(x[:, 0]))\n",
    "#print(len(x[:, 1]))\n",
    "#print(newdata)"
   ]
  },
  {
   "cell_type": "code",
   "execution_count": null,
   "metadata": {},
   "outputs": [],
   "source": [
    "#%matplotlib inline                                                         \n",
    "import numpy as np\n",
    "import matplotlib.pyplot as plt\n",
    "import math\n",
    "import scipy.io as sio\n",
    "import networkx as nx\n",
    "from Rc_net import *\n",
    "from chsh_W import *\n",
    "from tanh import *\n",
    "from noramlization import *"
   ]
  },
  {
   "cell_type": "code",
   "execution_count": 12,
   "metadata": {},
   "outputs": [
    {
     "name": "stdout",
     "output_type": "stream",
     "text": [
      "[[b'MATLAB 5.0 MAT-file Platform: posix, Created on: Wed Oct 28 15:50:41 2020', '1.0', [], array([[  0.        ,   0.09560721,   0.18466959, ..., -12.4027336 ,\n",
      "        -11.03449856,  -9.65973862]]), array([[1.        , 1.01357608, 1.05292898, ..., 1.12350768, 2.73947259,\n",
      "        4.00832184]]), array([[0.00000000e+00, 4.83288026e-04, 1.90209500e-03, ...,\n",
      "        4.25036591e+01, 4.10223938e+01, 3.94645350e+01]])]]\n"
     ]
    }
   ],
   "source": [
    "lormat='lor.mat'\n",
    "Y=sio.loadmat(lormat)\n",
    "values = list(Y.values())\n",
    "Leakingrate=0.2\n",
    "Ydata=[]\n",
    "Ydata.append(values)\n",
    "\n",
    "#indata=noramlization(Ydata)\n",
    "print(Ydata)"
   ]
  },
  {
   "cell_type": "code",
   "execution_count": 21,
   "metadata": {},
   "outputs": [
    {
     "ename": "SyntaxError",
     "evalue": "invalid character in identifier (<ipython-input-21-950a1acdff7e>, line 8)",
     "output_type": "error",
     "traceback": [
      "\u001b[0;36m  File \u001b[0;32m\"<ipython-input-21-950a1acdff7e>\"\u001b[0;36m, line \u001b[0;32m8\u001b[0m\n\u001b[0;31m    ’E’: ’0.5*(1.0+ii*a)*E*n + K*E(t-tau)’,\u001b[0m\n\u001b[0m      ^\u001b[0m\n\u001b[0;31mSyntaxError\u001b[0m\u001b[0;31m:\u001b[0m invalid character in identifier\n"
     ]
    }
   ],
   "source": [
    "import numpy as np\n",
    "import pylab as pl\n",
    "from pydelay import dde23\n",
    "tfinal = 10000\n",
    "tau = 1000\n",
    "#the laser equations\n",
    "eqns = {\n",
    "’E’: ’0.5*(1.0+ii*a)*E*n + K*E(t-tau)’,\n",
    "’n’ : ’(p - n - (1.0 +n) * pow(abs(E),2))/T’\n",
    "}\n",
    "params = {\n",
    "’a’ : 4.0,\n",
    "’p’ : 1.0,\n",
    "’T’ : 200.0,\n",
    "’K’ : 0.1,\n",
    "’tau’: tau,\n",
    "’nu’ : 10**-5,\n",
    "’n0’ : 10.0\n",
    "}\n",
    "noise = { ’E’: ’sqrt(0.5*nu*(n+n0)) * (gwn() + ii*gwn())’ }\n",
    "dde = dde23(eqns=eqns, params=params, noise=noise)\n",
    "dde.set_sim_params(tfinal=tfinal)\n",
    "# use a dictionary to set the history\n",
    "thist = np.linspace(0, tau, tfinal)\n",
    "Ehist = np.zeros(len(thist))+1.0\n",
    "nhist = np.zeros(len(thist))-0.2\n",
    "dic = {’t’ : thist, ’E’: Ehist, ’n’: nhist}\n",
    "# ’useend’ is True by default in hist_from_dict and thus the\n",
    "# time array is shifted correctly\n",
    "dde.hist_from_arrays(dic)\n",
    "dde.run()"
   ]
  },
  {
   "cell_type": "code",
   "execution_count": null,
   "metadata": {},
   "outputs": [],
   "source": []
  }
 ],
 "metadata": {
  "kernelspec": {
   "display_name": "Python 3",
   "language": "python",
   "name": "python3"
  },
  "language_info": {
   "codemirror_mode": {
    "name": "ipython",
    "version": 3
   },
   "file_extension": ".py",
   "mimetype": "text/x-python",
   "name": "python",
   "nbconvert_exporter": "python",
   "pygments_lexer": "ipython3",
   "version": "3.8.3"
  }
 },
 "nbformat": 4,
 "nbformat_minor": 4
}
